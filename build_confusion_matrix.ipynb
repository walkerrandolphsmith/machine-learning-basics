{
 "cells": [
  {
   "cell_type": "code",
   "execution_count": 20,
   "metadata": {},
   "outputs": [
    {
     "name": "stdout",
     "output_type": "stream",
     "text": [
      "Expected output: \n",
      "[[1 1 0]\n",
      " [0 1 0]\n",
      " [0 0 1]]\n",
      "Actual output: \n",
      "[[1. 1. 0.]\n",
      " [0. 1. 0.]\n",
      " [0. 0. 1.]]\n"
     ]
    }
   ],
   "source": [
    "import numpy as np\n",
    "\n",
    "def build_confusion_matrix(truth_vector, prediction_vector):\n",
    "    classes = np.unique(np.intersect1d(truth_vector, prediction_vector))\n",
    "    size = len(classes)\n",
    "    matrix = np.zeros((size, size))\n",
    "    for actual_class, predicated_class in zip(truth_vector, prediction_vector):\n",
    "        matrix[actual_class, predicated_class] += 1\n",
    "    return matrix\n",
    "\n",
    "print(\"Expected output: \\n{}\".format(np.matrix([[1, 1, 0], [0, 1, 0], [0, 0, 1]])))\n",
    "cm = build_confusion_matrix([0, 0, 1, 2], [1, 0, 1, 2])\n",
    "print(\"Actual output: \\n{}\".format(cm))"
   ]
  }
 ],
 "metadata": {
  "kernelspec": {
   "display_name": "base",
   "language": "python",
   "name": "python3"
  },
  "language_info": {
   "codemirror_mode": {
    "name": "ipython",
    "version": 3
   },
   "file_extension": ".py",
   "mimetype": "text/x-python",
   "name": "python",
   "nbconvert_exporter": "python",
   "pygments_lexer": "ipython3",
   "version": "3.11.4"
  },
  "orig_nbformat": 4
 },
 "nbformat": 4,
 "nbformat_minor": 2
}
